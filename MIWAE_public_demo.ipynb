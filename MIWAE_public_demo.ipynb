{
  "nbformat": 4,
  "nbformat_minor": 0,
  "metadata": {
    "colab": {
      "name": "MIWAE_public_demo",
      "version": "0.3.2",
      "provenance": [],
      "collapsed_sections": [],
      "toc_visible": true
    },
    "kernelspec": {
      "name": "python3",
      "display_name": "Python 3"
    },
    "accelerator": "GPU"
  },
  "cells": [
    {
      "cell_type": "markdown",
      "metadata": {
        "id": "21Vl-BrWuKLL",
        "colab_type": "text"
      },
      "source": [
        "# Deep learning meets missing data: Doing it MIWAE\n"
      ]
    },
    {
      "cell_type": "markdown",
      "metadata": {
        "id": "gMq1ifa_uUna",
        "colab_type": "text"
      },
      "source": [
        "In this notebook, we'll show how to learn a deep generative model on a small and **incomplete** continuous data set. We will also show how to **impute** the missing values of this data set. \n",
        "\n",
        "This is based on the following paper, available [on arXiv](https://arxiv.org/abs/1812.02633):\n",
        "\n",
        "P.-A. Mattei & J. Frellsen, **MIWAE: Deep Generative Modelling and Imputation of Incomplete Data Sets**, *International Conference on Machine Learning*, in press (2019)\n"
      ]
    },
    {
      "cell_type": "markdown",
      "metadata": {
        "id": "dawQVMWrvxYu",
        "colab_type": "text"
      },
      "source": [
        "# Installing and loading useful stuff"
      ]
    },
    {
      "cell_type": "code",
      "metadata": {
        "id": "5dymypuAny4P",
        "colab_type": "code",
        "outputId": "1e385ba1-1dfa-46ed-c30a-b5441924cf9c",
        "colab": {
          "base_uri": "https://localhost:8080/",
          "height": 204
        }
      },
      "source": [
        "!pip3 install --user --upgrade scikit-learn # We need to update it to run missForest\n",
        "import tensorflow as tf\n",
        "import numpy as np\n",
        "import scipy.stats\n",
        "import scipy.io\n",
        "import scipy.sparse\n",
        "from scipy.io import loadmat\n",
        "import pandas as pd\n",
        "import tensorflow_probability as tfp\n",
        "tfd = tfp.distributions\n",
        "tfk = tf.keras\n",
        "tfkl = tf.keras.layers\n",
        "from PIL import Image\n",
        "import matplotlib.pyplot as plt\n",
        "from sklearn.metrics import f1_score\n",
        "from sklearn import preprocessing\n",
        "import pandas as pd\n",
        "from sklearn.ensemble import ExtraTreesRegressor\n",
        "from sklearn.experimental import enable_iterative_imputer\n",
        "from sklearn.linear_model import BayesianRidge\n",
        "from sklearn.impute import IterativeImputer\n",
        "from sklearn.impute import SimpleImputer\n"
      ],
      "execution_count": 1,
      "outputs": [
        {
          "output_type": "stream",
          "text": [
            "Requirement already up-to-date: scikit-learn in /root/.local/lib/python3.6/site-packages (0.21.2)\n",
            "Requirement already satisfied, skipping upgrade: joblib>=0.11 in /usr/local/lib/python3.6/dist-packages (from scikit-learn) (0.12.5)\n",
            "Requirement already satisfied, skipping upgrade: scipy>=0.17.0 in /usr/local/lib/python3.6/dist-packages (from scikit-learn) (1.3.0)\n",
            "Requirement already satisfied, skipping upgrade: numpy>=1.11.0 in /usr/local/lib/python3.6/dist-packages (from scikit-learn) (1.16.3)\n",
            "\n",
            "WARNING: The TensorFlow contrib module will not be included in TensorFlow 2.0.\n",
            "For more information, please see:\n",
            "  * https://github.com/tensorflow/community/blob/master/rfcs/20180907-contrib-sunset.md\n",
            "  * https://github.com/tensorflow/addons\n",
            "If you depend on functionality not listed there, please file an issue.\n",
            "\n"
          ],
          "name": "stdout"
        }
      ]
    },
    {
      "cell_type": "code",
      "metadata": {
        "id": "VWcQ9yIFXUTN",
        "colab_type": "code",
        "colab": {}
      },
      "source": [
        "def mse(xhat,xtrue,mask): # MSE function for imputations\n",
        "    xhat = np.array(xhat)\n",
        "    xtrue = np.array(xtrue)\n",
        "    return np.mean(np.power(xhat-xtrue,2)[~mask])"
      ],
      "execution_count": 0,
      "outputs": []
    },
    {
      "cell_type": "markdown",
      "metadata": {
        "id": "0RpNVgHjuPzC",
        "colab_type": "text"
      },
      "source": [
        "# Loading the data"
      ]
    },
    {
      "cell_type": "markdown",
      "metadata": {
        "id": "DeBa5C1WXoGN",
        "colab_type": "text"
      },
      "source": [
        "\n",
        "\n",
        "> We'll use the breast cancer data set from scikit-learn.\n",
        "\n"
      ]
    },
    {
      "cell_type": "code",
      "metadata": {
        "id": "RIQ9W-Uv_ur0",
        "colab_type": "code",
        "colab": {}
      },
      "source": [
        "from sklearn.datasets import load_breast_cancer\n",
        "\n",
        "data = load_breast_cancer(True)[0]"
      ],
      "execution_count": 0,
      "outputs": []
    },
    {
      "cell_type": "markdown",
      "metadata": {
        "id": "VxWks15H_GOB",
        "colab_type": "text"
      },
      "source": [
        "It is also possible to use the \"white wine\" or \"red wine\" UCI data sets by uncommenting one of the following cells."
      ]
    },
    {
      "cell_type": "code",
      "metadata": {
        "id": "8ImVc9R52qdg",
        "colab_type": "code",
        "colab": {}
      },
      "source": [
        "#url = \"https://archive.ics.uci.edu/ml/machine-learning-databases/wine-quality/winequality-red.csv\"\n",
        "#data = np.array(pd.read_csv(url, low_memory=False, sep=';'))"
      ],
      "execution_count": 0,
      "outputs": []
    },
    {
      "cell_type": "code",
      "metadata": {
        "id": "akd4tc0m-HMz",
        "colab_type": "code",
        "colab": {}
      },
      "source": [
        "#url = \"https://archive.ics.uci.edu/ml/machine-learning-databases/wine-quality/winequality-white.csv\"\n",
        "#data = np.array(pd.read_csv(url, low_memory=False, sep=';'))"
      ],
      "execution_count": 0,
      "outputs": []
    },
    {
      "cell_type": "markdown",
      "metadata": {
        "id": "1SISFvaO_SJ2",
        "colab_type": "text"
      },
      "source": [
        "We now standardise the data:"
      ]
    },
    {
      "cell_type": "code",
      "metadata": {
        "id": "Rp_Xbte_2zVK",
        "colab_type": "code",
        "colab": {}
      },
      "source": [
        "xfull = (data - np.mean(data,0))/np.std(data,0)\n",
        "\n",
        "\n",
        "n = xfull.shape[0]\n",
        "p = xfull.shape[1]"
      ],
      "execution_count": 0,
      "outputs": []
    },
    {
      "cell_type": "markdown",
      "metadata": {
        "id": "_Ct5EDgdXxJD",
        "colab_type": "text"
      },
      "source": [
        "We will remove uniformy at random 50% of the data."
      ]
    },
    {
      "cell_type": "code",
      "metadata": {
        "id": "U8A94e8tX8ta",
        "colab_type": "code",
        "colab": {}
      },
      "source": [
        "np.random.seed(1234)\n",
        "tf.set_random_seed(1234)\n",
        "\n",
        "perc_miss = 0.5 # 50% of missing data\n",
        "xmiss = np.copy(xfull)\n",
        "xmiss_flat = xmiss.flatten()\n",
        "miss_pattern = np.random.choice(n*p, np.floor(n*p*perc_miss).astype(np.int), replace=False)\n",
        "xmiss_flat[miss_pattern] = np.nan \n",
        "xmiss = xmiss_flat.reshape([n,p]) # in xmiss, the missing values are represented by nans\n",
        "mask = np.isfinite(xmiss) # binary mask that indicates which values are missing"
      ],
      "execution_count": 0,
      "outputs": []
    },
    {
      "cell_type": "markdown",
      "metadata": {
        "id": "uj0YaRppuvw4",
        "colab_type": "text"
      },
      "source": [
        "A simple way of imputing the incomplete data is to replace the missing values by zeros. This x_hat0 is what will be fed to our encoder."
      ]
    },
    {
      "cell_type": "code",
      "metadata": {
        "id": "PorBq9ncYZ8t",
        "colab_type": "code",
        "colab": {}
      },
      "source": [
        "xhat_0 = np.copy(xmiss)\n",
        "xhat_0[np.isnan(xmiss)] = 0"
      ],
      "execution_count": 0,
      "outputs": []
    },
    {
      "cell_type": "markdown",
      "metadata": {
        "id": "E5uWZxzLYns_",
        "colab_type": "text"
      },
      "source": [
        "# Placeholders and hyperparemeters"
      ]
    },
    {
      "cell_type": "code",
      "metadata": {
        "id": "Qo-L63QRYaGT",
        "colab_type": "code",
        "colab": {}
      },
      "source": [
        "x = tf.placeholder(tf.float32, shape=[None, p]) # Placeholder for xhat_0\n",
        "learning_rate = tf.placeholder(tf.float32, shape=[])\n",
        "batch_size = tf.shape(x)[0]\n",
        "xmask = tf.placeholder(tf.bool, shape=[None, p])\n",
        "K= tf.placeholder(tf.int32, shape=[]) # Placeholder for the number of importance weights\n"
      ],
      "execution_count": 0,
      "outputs": []
    },
    {
      "cell_type": "code",
      "metadata": {
        "id": "hFQ7OsOJYwYJ",
        "colab_type": "code",
        "colab": {}
      },
      "source": [
        "h = 128 # number of hidden units in (same for all MLPs)\n",
        "d = 10 # dimension of the latent space"
      ],
      "execution_count": 0,
      "outputs": []
    },
    {
      "cell_type": "markdown",
      "metadata": {
        "id": "srUk6d53ZCJT",
        "colab_type": "text"
      },
      "source": [
        "# Model building"
      ]
    },
    {
      "cell_type": "code",
      "metadata": {
        "id": "sYZUCY4OYwiQ",
        "colab_type": "code",
        "colab": {}
      },
      "source": [
        "p_z = tfd.MultivariateNormalDiag(loc=tf.zeros(d, tf.float32))"
      ],
      "execution_count": 0,
      "outputs": []
    },
    {
      "cell_type": "code",
      "metadata": {
        "id": "a3OpwDjthBWn",
        "colab_type": "code",
        "colab": {}
      },
      "source": [
        "decoder = tfk.Sequential([\n",
        "  tfkl.InputLayer(input_shape=[d,]),\n",
        "  tfkl.Dense(h, activation='tanh',kernel_initializer=\"orthogonal\"),\n",
        "  tfkl.Dense(h, activation='tanh',kernel_initializer=\"orthogonal\"),\n",
        "  tfkl.Dense(3*p,kernel_initializer=\"orthogonal\")\n",
        "])"
      ],
      "execution_count": 0,
      "outputs": []
    },
    {
      "cell_type": "markdown",
      "metadata": {
        "id": "evV7W4TikheZ",
        "colab_type": "text"
      },
      "source": [
        "#Building the inference network (*aka* encoder)"
      ]
    },
    {
      "cell_type": "code",
      "metadata": {
        "id": "eAIuTL91I1MJ",
        "colab_type": "code",
        "colab": {}
      },
      "source": [
        "tiledmask = tf.tile(xmask,[K,1])\n",
        "tiledmask_float = tf.cast(tiledmask,tf.float32)\n",
        "mask_not_float = tf.abs(-tf.cast(xmask,tf.float32))\n",
        "\n",
        "iota = tf.Variable(np.zeros([1,p]),dtype=tf.float32)\n",
        "tilediota = tf.tile(iota,[batch_size,1])\n",
        "iotax = x + tf.multiply(tilediota,mask_not_float)"
      ],
      "execution_count": 0,
      "outputs": []
    },
    {
      "cell_type": "code",
      "metadata": {
        "id": "4LvjgC87koO-",
        "colab_type": "code",
        "colab": {}
      },
      "source": [
        "encoder = tfk.Sequential([\n",
        "  tfkl.InputLayer(input_shape=[p,]),\n",
        "  tfkl.Dense(h, activation='tanh',kernel_initializer=\"orthogonal\"),\n",
        "  tfkl.Dense(h, activation='tanh',kernel_initializer=\"orthogonal\"),\n",
        "  tfkl.Dense(3*d,kernel_initializer=\"orthogonal\")\n",
        "])"
      ],
      "execution_count": 0,
      "outputs": []
    },
    {
      "cell_type": "markdown",
      "metadata": {
        "id": "tGVLDugmloFM",
        "colab_type": "text"
      },
      "source": [
        "#Building the MIWAE loss"
      ]
    },
    {
      "cell_type": "code",
      "metadata": {
        "id": "MO23BaO_nQ0S",
        "colab_type": "code",
        "colab": {}
      },
      "source": [
        "out_encoder = encoder(iotax)\n",
        "q_zgivenxobs = tfd.Independent(distribution=tfd.StudentT(loc=out_encoder[..., :d], scale=tf.nn.softplus(out_encoder[..., d:(2*d)]), df=3 + tf.nn.softplus(out_encoder[..., (2*d):(3*d)])))\n",
        "zgivenx = q_zgivenxobs.sample(K)\n",
        "zgivenx_flat = tf.reshape(zgivenx,[K*batch_size,d])\n",
        "data_flat = tf.reshape(tf.tile(x,[K,1]),[-1,1])"
      ],
      "execution_count": 0,
      "outputs": []
    },
    {
      "cell_type": "code",
      "metadata": {
        "id": "rA8IHHr-lso-",
        "colab_type": "code",
        "colab": {}
      },
      "source": [
        "out_decoder = decoder(zgivenx_flat)\n",
        "all_means_obs_model = out_decoder[..., :p]\n",
        "all_scales_obs_model = tf.nn.softplus(out_decoder[..., p:(2*p)]) + 0.0001\n",
        "all_degfreedom_obs_model = tf.nn.softplus(out_decoder[..., (2*p):(3*p)]) + 3\n",
        "all_log_pxgivenz_flat = tfd.StudentT(loc=tf.reshape(all_means_obs_model,[-1,1]),scale=tf.reshape(all_scales_obs_model,[-1,1]),df=tf.reshape(all_degfreedom_obs_model,[-1,1])).log_prob(data_flat)\n",
        "all_log_pxgivenz = tf.reshape(all_log_pxgivenz_flat,[K*batch_size,p])"
      ],
      "execution_count": 0,
      "outputs": []
    },
    {
      "cell_type": "code",
      "metadata": {
        "id": "IzYf9fwzls12",
        "colab_type": "code",
        "colab": {}
      },
      "source": [
        "logpxobsgivenz = tf.reshape(tf.reduce_sum(tf.multiply(all_log_pxgivenz,tiledmask_float),1),[K,batch_size])\n",
        "logpz = p_z.log_prob(zgivenx)\n",
        "logq = q_zgivenxobs.log_prob(zgivenx)"
      ],
      "execution_count": 0,
      "outputs": []
    },
    {
      "cell_type": "code",
      "metadata": {
        "id": "CxdFDGlKltCy",
        "colab_type": "code",
        "colab": {}
      },
      "source": [
        "miwae_loss = -tf.reduce_mean(tf.reduce_logsumexp(logpxobsgivenz + logpz - logq,0)) +tf.log(tf.cast(K,tf.float32))\n",
        "train_miss = tf.train.AdamOptimizer(learning_rate = learning_rate).minimize(miwae_loss)"
      ],
      "execution_count": 0,
      "outputs": []
    },
    {
      "cell_type": "markdown",
      "metadata": {
        "id": "oUWloElrESwP",
        "colab_type": "text"
      },
      "source": [
        "# Single imputation"
      ]
    },
    {
      "cell_type": "code",
      "metadata": {
        "id": "saR4UBU7E8IN",
        "colab_type": "code",
        "colab": {}
      },
      "source": [
        "xgivenz = tfd.Independent(\n",
        "      distribution=tfd.StudentT(loc=all_means_obs_model, scale=all_scales_obs_model, df=all_degfreedom_obs_model))"
      ],
      "execution_count": 0,
      "outputs": []
    },
    {
      "cell_type": "code",
      "metadata": {
        "id": "lZyjTXuuEX0f",
        "colab_type": "code",
        "colab": {}
      },
      "source": [
        "imp_weights = tf.nn.softmax(logpxobsgivenz + logpz - logq,0)\n",
        "xms = tf.reshape(xgivenz.sample(),[K,batch_size,p])\n",
        "xm=tf.einsum('ki,kij->ij', imp_weights, xms)"
      ],
      "execution_count": 0,
      "outputs": []
    },
    {
      "cell_type": "markdown",
      "metadata": {
        "id": "Z7zfAGIjHt_k",
        "colab_type": "text"
      },
      "source": [
        "# Training and imputing"
      ]
    },
    {
      "cell_type": "code",
      "metadata": {
        "id": "KTQF_6D1n4Lm",
        "colab_type": "code",
        "outputId": "c4393bd9-40d9-4b42-a804-4a4ed8edfc5d",
        "colab": {
          "base_uri": "https://localhost:8080/",
          "height": 425
        }
      },
      "source": [
        "miwae_loss_train=np.array([])\n",
        "mse_train=np.array([])\n",
        "bs = 64 # batch size\n",
        "n_epochs = 1002\n",
        "xhat = np.copy(xhat_0) # This will be out imputed data matrix\n",
        "\n",
        "with tf.Session() as sess:\n",
        "    sess.run(tf.global_variables_initializer())\n",
        "    for ep in range(1,n_epochs):\n",
        "      perm = np.random.permutation(n) # We use the \"random reshuffling\" version of SGD\n",
        "      batches_data = np.array_split(xhat_0[perm,], n/bs)\n",
        "      batches_mask = np.array_split(mask[perm,], n/bs)\n",
        "      for it in range(len(batches_data)):\n",
        "          train_miss.run(feed_dict={x: batches_data[it], learning_rate: 0.001, K:20, xmask: batches_mask[it]})          \n",
        "      if ep % 200 == 1:\n",
        "          losstrain = np.array([miwae_loss.eval(feed_dict={x: xhat_0, K:20, xmask: mask})])\n",
        "          miwae_loss_train = np.append(miwae_loss_train,-losstrain,axis=0)\n",
        "          print('Epoch %g' %ep)\n",
        "          print('MIWAE likelihood bound  %g' %-losstrain)\n",
        "          for i in range(n): # We impute the observations one at a time for memory reasons\n",
        "              xhat[i,:][~mask[i,:]]=xm.eval(feed_dict={x: xhat_0[i,:].reshape([1,p]), K:10000, xmask: mask[i,:].reshape([1,p])})[~mask[i,:].reshape([1,p])]\n",
        "          err = np.array([mse(xhat,xfull,mask)])\n",
        "          mse_train = np.append(mse_train,err,axis=0)\n",
        "          print('Imputation MSE  %g' %err)\n",
        "          print('-----')"
      ],
      "execution_count": 64,
      "outputs": [
        {
          "output_type": "stream",
          "text": [
            "Epoch 1\n",
            "MIWAE likelihood bound  -7.66279\n",
            "Imputation MSE  0.82164\n",
            "-----\n",
            "Epoch 201\n",
            "MIWAE likelihood bound  -5.15762\n",
            "Imputation MSE  0.753431\n",
            "-----\n",
            "Epoch 401\n",
            "MIWAE likelihood bound  -5.08072\n",
            "Imputation MSE  0.747867\n",
            "-----\n",
            "Epoch 601\n",
            "MIWAE likelihood bound  -5.6269\n",
            "Imputation MSE  0.757863\n",
            "-----\n",
            "Epoch 801\n",
            "MIWAE likelihood bound  -4.71915\n",
            "Imputation MSE  0.740869\n",
            "-----\n",
            "Epoch 1001\n",
            "MIWAE likelihood bound  -5.05967\n",
            "Imputation MSE  0.749596\n",
            "-----\n"
          ],
          "name": "stdout"
        }
      ]
    },
    {
      "cell_type": "markdown",
      "metadata": {
        "id": "XZsYAmymH28c",
        "colab_type": "text"
      },
      "source": [
        "# Comparisons with other methods"
      ]
    },
    {
      "cell_type": "markdown",
      "metadata": {
        "id": "84kWm6OVIRq8",
        "colab_type": "text"
      },
      "source": [
        "We make use of the recent [IterativeImputer](https://scikit-learn.org/dev/auto_examples/impute/plot_iterative_imputer_variants_comparison.html) mehod implemented in scikit-learn. It allows, in particular, to use an imputation technique quite similar to the popular missForest algorithm of  [Stekhoven & Bühlmann (2011)](https://academic.oup.com/bioinformatics/article/28/1/112/219101)."
      ]
    },
    {
      "cell_type": "code",
      "metadata": {
        "id": "XQMQZzoqEXxw",
        "colab_type": "code",
        "outputId": "0aa0555d-e0dd-475d-9a7b-d9db58b9096a",
        "colab": {
          "base_uri": "https://localhost:8080/",
          "height": 105
        }
      },
      "source": [
        "missforest = IterativeImputer(estimator=ExtraTreesRegressor(n_estimators=100))\n",
        "iterative_ridge = IterativeImputer(estimator=BayesianRidge())\n",
        "missforest.fit(xmiss)\n",
        "iterative_ridge.fit(xmiss)\n",
        "xhat_mf = missforest.transform(xmiss)\n",
        "xhat_ridge = iterative_ridge.transform(xmiss)\n",
        "mean_imp = SimpleImputer(missing_values=np.nan, strategy='mean')\n",
        "mean_imp.fit(xmiss)\n",
        "xhat_mean = mean_imp.transform(xmiss)"
      ],
      "execution_count": 67,
      "outputs": [
        {
          "output_type": "stream",
          "text": [
            "/root/.local/lib/python3.6/site-packages/sklearn/impute/_iterative.py:599: ConvergenceWarning: [IterativeImputer] Early stopping criterion not reached.\n",
            "  \" reached.\", ConvergenceWarning)\n",
            "/root/.local/lib/python3.6/site-packages/sklearn/impute/_iterative.py:599: ConvergenceWarning: [IterativeImputer] Early stopping criterion not reached.\n",
            "  \" reached.\", ConvergenceWarning)\n"
          ],
          "name": "stderr"
        }
      ]
    },
    {
      "cell_type": "code",
      "metadata": {
        "id": "PF3VgTEGEXu-",
        "colab_type": "code",
        "outputId": "3e16f557-c27b-4d51-80b8-bb9baafcbafd",
        "colab": {
          "base_uri": "https://localhost:8080/",
          "height": 295
        }
      },
      "source": [
        "import matplotlib.pyplot as plt\n",
        "plt.plot(range(1,n_epochs,200),mse_train,color=\"blue\")\n",
        "plt.axhline(y=mse(xhat_mf,xfull,mask),  linestyle='-',color=\"red\")\n",
        "plt.axhline(y=mse(xhat_mean,xfull,mask),  linestyle='-',color=\"green\")\n",
        "plt.axhline(y=mse(xhat_ridge,xfull,mask),  linestyle='-',color=\"orange\")\n",
        "plt.legend([\"MIWAE\",\"missForest\",\"Mean\",\"Iterative ridge\"])\n",
        "plt.title(\"Imputation MSE\")\n",
        "plt.xlabel(\"Epochs\")\n",
        "plt.show()"
      ],
      "execution_count": 71,
      "outputs": [
        {
          "output_type": "display_data",
          "data": {
            "image/png": "[encoded data removed]",
            "text/plain": [
              "<Figure size 432x288 with 1 Axes>"
            ]
          },
          "metadata": {
            "tags": []
          }
        }
      ]
    }
  ]
}