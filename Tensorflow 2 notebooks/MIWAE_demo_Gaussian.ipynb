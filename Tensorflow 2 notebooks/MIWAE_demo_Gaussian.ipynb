{
  "nbformat": 4,
  "nbformat_minor": 0,
  "metadata": {
    "colab": {
      "name": "MIWAE_demo_Gaussian",
      "provenance": []
    },
    "kernelspec": {
      "name": "python3",
      "display_name": "Python 3"
    }
  },
  "cells": [
    {
      "cell_type": "markdown",
      "metadata": {
        "id": "q78bPDrEcVcY"
      },
      "source": [
        "# Deep learning meets missing data: Doing it MIWAE\n"
      ]
    },
    {
      "cell_type": "markdown",
      "metadata": {
        "id": "3MSul5KJtdIU"
      },
      "source": [
        "# Multivariate normal distribution"
      ]
    },
    {
      "cell_type": "markdown",
      "metadata": {
        "id": "IYztw9UScZCW"
      },
      "source": [
        "In this notebook, we'll show how to learn a deep generative model on a small(ish) and **incomplete** continuous data set. We will also show how to **impute** the missing values of this data set. \n",
        "\n",
        "This is based on the following paper, available [on the ICML website](http://proceedings.mlr.press/v97/mattei19a.html):\n",
        "\n",
        "P.-A. Mattei & J. Frellsen, **MIWAE: Deep Generative Modelling and Imputation of Incomplete Data Sets**, *Proceedings of the 36th International Conference on Machine Learning*, PMLR 97:4413-4423, 2019.\n",
        "\n",
        "It is possible to run this notebook in Google Colab, which allows to benefit from free GPU computing.\n",
        "<table class=\"tfo-notebook-buttons\" align=\"left\">\n",
        "    <td>\n",
        "    <a target=\"_blank\" href=\"https://colab.research.google.com/github/pamattei/MIWAE_demo_UCI.ipynb\"><img src=\"https://www.tensorflow.org/images/colab_logo_32px.png\" />Run in Google Colab</a>\n",
        "  </td>\n",
        "</table>\n"
      ]
    },
    {
      "cell_type": "markdown",
      "metadata": {
        "id": "dawQVMWrvxYu"
      },
      "source": [
        "# Installing and loading useful stuff"
      ]
    },
    {
      "cell_type": "code",
      "metadata": {
        "id": "5dymypuAny4P"
      },
      "source": [
        "import tensorflow as tf\n",
        "import numpy as np\n",
        "import scipy.stats\n",
        "import scipy.io\n",
        "import scipy.sparse\n",
        "from scipy.io import loadmat\n",
        "import pandas as pd\n",
        "import tensorflow_probability as tfp\n",
        "tfd = tfp.distributions\n",
        "tfk = tf.keras\n",
        "tfkl = tf.keras.layers\n",
        "from PIL import Image\n",
        "import matplotlib.pyplot as plt\n",
        "from sklearn.metrics import f1_score\n",
        "from sklearn import preprocessing\n",
        "import pandas as pd\n",
        "from sklearn.ensemble import ExtraTreesRegressor\n",
        "from sklearn.experimental import enable_iterative_imputer\n",
        "from sklearn.linear_model import BayesianRidge\n",
        "from sklearn.impute import IterativeImputer\n",
        "from sklearn.impute import SimpleImputer\n",
        "\n",
        "import seaborn as sns; sns.set()\n",
        "import matplotlib.pyplot as plt"
      ],
      "execution_count": null,
      "outputs": []
    },
    {
      "cell_type": "code",
      "metadata": {
        "id": "VWcQ9yIFXUTN"
      },
      "source": [
        "def mse(xhat,xtrue,mask): # MSE function for imputations\n",
        "    mask = mask.astype(np.bool)\n",
        "    xhat = np.array(xhat)\n",
        "    xtrue = np.array(xtrue)\n",
        "    return np.mean(np.power(xhat-xtrue,2)[~mask])"
      ],
      "execution_count": null,
      "outputs": []
    },
    {
      "cell_type": "markdown",
      "metadata": {
        "id": "0RpNVgHjuPzC"
      },
      "source": [
        "# Creating the synthetic data set"
      ]
    },
    {
      "cell_type": "markdown",
      "metadata": {
        "id": "DeBa5C1WXoGN"
      },
      "source": [
        "We'll use a synthetic data set made of samples from a mutltivariate Gaussian distribution.\n",
        "\n"
      ]
    },
    {
      "cell_type": "code",
      "metadata": {
        "id": "1zU3dUigc5j7"
      },
      "source": [
        "dim = 2\n",
        "mu_true = np.zeros(dim)\n",
        "cov_true = np.eye(dim)+1 # example suggested by Maria Skoularidou\n",
        "data=np.random.multivariate_normal(mean=mu_true, cov =cov_true, size=1000)"
      ],
      "execution_count": null,
      "outputs": []
    },
    {
      "cell_type": "markdown",
      "metadata": {
        "id": "1SISFvaO_SJ2"
      },
      "source": [
        "We don't standardise the data since they are already quite well-behaved."
      ]
    },
    {
      "cell_type": "code",
      "metadata": {
        "id": "Rp_Xbte_2zVK"
      },
      "source": [
        "xfull = data.astype(np.float32)\n",
        "n = xfull.shape[0] # number of observations\n",
        "p = xfull.shape[1] # number of features"
      ],
      "execution_count": null,
      "outputs": []
    },
    {
      "cell_type": "markdown",
      "metadata": {
        "id": "_Ct5EDgdXxJD"
      },
      "source": [
        "We will remove uniformy at random 50% of the data. This \n",
        "corresponds to a *missing completely at random (MCAR)* scenario. The MIWAE also works in more challenging *missing at random (MAR)* situations. For more info on what MCAR, MAR, and MNAR mean, you can look for example at [these nice lecture notes](http://juliejosse.com/wp-content/uploads/2018/07/LectureNotesMissing.html) by Julie Josse, Wei Jiang, Aude Sportisse, and Geneviève Robin. We are also working on an [extension of MIWAE to handle MNAR data](https://arxiv.org/abs/2006.12871)."
      ]
    },
    {
      "cell_type": "code",
      "metadata": {
        "id": "U8A94e8tX8ta"
      },
      "source": [
        "np.random.seed(1234)\n",
        "\n",
        "perc_miss = 0.5 # 50% of missing data\n",
        "xmiss = np.copy(xfull)\n",
        "xmiss_flat = xmiss.flatten()\n",
        "miss_pattern = np.random.choice(n*p, np.floor(n*p*perc_miss).astype(np.int), replace=False)\n",
        "xmiss_flat[miss_pattern] = np.nan \n",
        "xmiss = xmiss_flat.reshape([n,p]) # in xmiss, the missing values are represented by nans\n",
        "mask = np.isfinite(xmiss).astype(np.float32) # binary mask that indicates which values are not missing"
      ],
      "execution_count": null,
      "outputs": []
    },
    {
      "cell_type": "markdown",
      "metadata": {
        "id": "uj0YaRppuvw4"
      },
      "source": [
        "A simple way of imputing the incomplete data is to replace the missing values by zeros. This $\\texttt{x_hat0}$ corresponds to these *zero-imputed data*."
      ]
    },
    {
      "cell_type": "code",
      "metadata": {
        "id": "PorBq9ncYZ8t"
      },
      "source": [
        "xhat_0 = np.copy(xmiss)\n",
        "xhat_0[np.isnan(xmiss)] = 0"
      ],
      "execution_count": null,
      "outputs": []
    },
    {
      "cell_type": "markdown",
      "metadata": {
        "id": "srUk6d53ZCJT"
      },
      "source": [
        "# Model building"
      ]
    },
    {
      "cell_type": "markdown",
      "metadata": {
        "id": "zepRWE3kDI_-"
      },
      "source": [
        "We will use a **deep latent variable model with a Gaussian prior and a Student's t observation model**. This can be written:\n",
        "\n",
        "$$p(\\mathbf{x}_1,...,\\mathbf{x}_n) = \\prod_{i=1}^n p(\\mathbf{x}_i|\\mathbf{z}_i)p(\\mathbf{z}_i),$$\n",
        "$$p(\\mathbf{z}_i) = \\mathcal{N}(\\mathbf{z}_i|\\mathbf{0}_d,\\mathbf{I}_d), $$\n",
        "$$p(\\mathbf{x}_i|\\mathbf{z}_i) = \\text{St} (\\mathbf{x}_i|\\boldsymbol{\\mu}_{\\boldsymbol{\\theta}}(\\mathbf{z}_i),\\boldsymbol{\\Sigma}_{\\boldsymbol{\\theta}}(\\mathbf{z}_i),\\boldsymbol{\\nu}_{\\boldsymbol{\\theta}}(\\mathbf{z}_i)),$$\n",
        "\n",
        "where $\\boldsymbol{\\mu}_{\\boldsymbol{\\theta}}: \\mathbb{R}^d \\rightarrow \\mathbb{R}^p$, $\\boldsymbol{\\Sigma}_{\\boldsymbol{\\theta}}: \\mathbb{R}^d \\rightarrow \\mathcal{S}_p^{++}$, and $\\boldsymbol{\\nu}_{\\boldsymbol{\\theta}}: \\mathbb{R}^d \\rightarrow \\mathbb{R}_+^p$ are functions parametrised by deep neural nets."
      ]
    },
    {
      "cell_type": "markdown",
      "metadata": {
        "id": "zQGrEj5flTeK"
      },
      "source": [
        "The weights of these nets are stored in a parameter $\\boldsymbol{\\theta}$. We choose to use the following simple architecture, where the 3 neural nets share the first layers:\n",
        "\n",
        "$$f_{\\boldsymbol{\\theta}} (\\mathbf{z})=\\sigma(\\mathbf{W}_1\\sigma(\\mathbf{W}_0\\mathbf{z}+\\mathbf{b}_0)+\\mathbf{b}_1) $$\n",
        "\n",
        "$$\\boldsymbol{\\mu}_{\\boldsymbol{\\theta}}(\\mathbf{z}) = \\mathbf{W}_\\boldsymbol{\\mu}f_{\\boldsymbol{\\theta}} (\\mathbf{z})+\\mathbf{b}_\\boldsymbol{\\mu}, $$\n",
        "\n",
        "$$\\boldsymbol{\\Sigma}_{\\boldsymbol{\\theta}}(\\mathbf{z}) = \\text{Diag}\\left(\\text{Softplus}(\\mathbf{W}_\\boldsymbol{\\sigma}f_{\\boldsymbol{\\theta}} (\\mathbf{z})+\\mathbf{b}_\\boldsymbol{\\sigma}) + 10^{-3}\\right), $$\n",
        "\n",
        "$$\\boldsymbol{\\nu}_{\\boldsymbol{\\theta}}(\\mathbf{z}) = \\text{Softplus}(\\mathbf{W}_\\boldsymbol{\\nu}f_{\\boldsymbol{\\theta}} (\\mathbf{z})+\\mathbf{b}_\\boldsymbol{\\nu}) + 3. $$"
      ]
    },
    {
      "cell_type": "markdown",
      "metadata": {
        "id": "B8Tw89qNmLte"
      },
      "source": [
        "A few **non-essential remarks** about this architecture:\n",
        "\n",
        "* This parametrisation is quite close to the one we use in the MIWAE paper. The main difference is that we use $\\sigma = \\text{ReLU}$ (which leads to faster training) while we used $\\sigma = \\text{tanh}$ in the paper.\n",
        "*   We use a [location-scale parametrisation](https://en.wikipedia.org/wiki/Location%E2%80%93scale_family) of the t distribution, following [the parametrisation available in TensorFlow](https://www.tensorflow.org/api_docs/python/tf/distributions/StudentT). Note in particular that $\\boldsymbol{\\Sigma}_{\\boldsymbol{\\theta}}(\\mathbf{z})$ is not the covariance matrix of $\\mathbf{x} | \\mathbf{z}$. When it exitsts, the actual covariance matrix is diagonal with diagonal  $$ \\frac{\\text{diag}(\\boldsymbol{\\Sigma}_{\\boldsymbol{\\theta}} (\\mathbf{z}))^2 \\boldsymbol{\\nu}_{\\boldsymbol{\\theta}}(\\mathbf{z})}{\\boldsymbol{\\nu}_{\\boldsymbol{\\theta}}(\\mathbf{z})-2}$$ (where all operations are made entrywise).\n",
        "*   The fact that the covariance matrix is diagonal means that we assume that **the features are independent conditionnally on the latent variable** (which is customary for DLVMs).\n",
        "* We add $3$ to the neural net that outputs the degrees of freedom. This is to guarantee that the tails of $p_{\\boldsymbol{\\theta}}(\\mathbf{x} | \\mathbf{z})$ are not too heavy. Indeed, having too heavy tails might imply that the mean of $p_{\\boldsymbol{\\theta}}(\\mathbf{x} | \\mathbf{z})$ does not exist! Adding 3 implies that the degrees of freedom is always larger than 3, implying in turn that **at least the first 3 moments of $p_{\\boldsymbol{\\theta}}(\\mathbf{x} | \\mathbf{z})$ are well-defined.**\n",
        "* We add $10^{-3}$ to the diagonal entries of $\\boldsymbol{\\Sigma}_{\\boldsymbol{\\theta}}$ to prevent singularities, [as advocated in our NeurIPS 2018 paper](https://papers.nips.cc/paper/7642-leveraging-the-exact-likelihood-of-deep-latent-variable-models). Why $10^{-3}$ specifically? Because, since the data have unit variance, this will imply that the latent variable explains at most $99.9999\\%$ of the variance of the data, which does not seem too restrictive. **This choice might be poor if the data are not standardised.**\n",
        "\n",
        "\n"
      ]
    },
    {
      "cell_type": "markdown",
      "metadata": {
        "id": "zvAxHV_fvqyO"
      },
      "source": [
        "Since the data are fairly simple in this case, we make the strong assumption that the latent space is of dimension $d = 1$. This roughly means that we assume that the data lie close to a nonlinear manifold of dimension $1$."
      ]
    },
    {
      "cell_type": "code",
      "metadata": {
        "id": "kdcqwtqUc56V"
      },
      "source": [
        "d = 1 # 1D manifold\n",
        "p_z = tfd.MultivariateNormalDiag(loc=tf.zeros(d, tf.float32))"
      ],
      "execution_count": null,
      "outputs": []
    },
    {
      "cell_type": "code",
      "metadata": {
        "id": "s6HhkpPMc58C"
      },
      "source": [
        "h = 128 # number of hidden units (same for all MLPs)\n",
        "\n",
        "sigma = \"relu\"\n",
        "\n",
        "decoder = tfk.Sequential([\n",
        "  tfkl.InputLayer(input_shape=[d,]),\n",
        "  tfkl.Dense(h, activation=sigma,kernel_initializer=\"he_normal\"),\n",
        "  tfkl.Dense(h, activation=sigma,kernel_initializer=\"he_normal\"),\n",
        "  tfkl.Dense(3*p,kernel_initializer=\"he_normal\") # the decoder will output both the mean, the scale, and the number of degrees of freedoms (hence the 3*p)\n",
        "])"
      ],
      "execution_count": null,
      "outputs": []
    },
    {
      "cell_type": "markdown",
      "metadata": {
        "id": "evV7W4TikheZ"
      },
      "source": [
        "#Building the inference network (*aka* encoder)"
      ]
    },
    {
      "cell_type": "markdown",
      "metadata": {
        "id": "sf7M131MFq4G"
      },
      "source": [
        "We will build a Student's t posterior approximation by using an **encoder** that mimicks the architecture of the decoder.\n"
      ]
    },
    {
      "cell_type": "markdown",
      "metadata": {
        "id": "BUpssvyaF83k"
      },
      "source": [
        "The imputation function $\\iota$ replaces the missing values by learned constants. Note that this is slightly more general than what we use in the paper (which was just replacing missing values by zeros). We just initialise it using zeros."
      ]
    },
    {
      "cell_type": "code",
      "metadata": {
        "id": "eAIuTL91I1MJ"
      },
      "source": [
        "iota = tf.Variable(np.zeros([1,p]),dtype=tf.float32)"
      ],
      "execution_count": null,
      "outputs": []
    },
    {
      "cell_type": "code",
      "metadata": {
        "id": "4LvjgC87koO-"
      },
      "source": [
        "encoder = tfk.Sequential([\n",
        "  tfkl.InputLayer(input_shape=[p,]),\n",
        "  tfkl.Dense(h, activation=sigma,kernel_initializer=\"he_normal\"),\n",
        "  tfkl.Dense(h, activation=sigma,kernel_initializer=\"he_normal\"),\n",
        "  tfkl.Dense(3*d,kernel_initializer=\"he_normal\")\n",
        "])"
      ],
      "execution_count": null,
      "outputs": []
    },
    {
      "cell_type": "markdown",
      "metadata": {
        "id": "pMBvSUMsv0Lq"
      },
      "source": [
        "# Computing the MIWAE bound"
      ]
    },
    {
      "cell_type": "markdown",
      "metadata": {
        "id": "cXMxdPnvv3en"
      },
      "source": [
        "We now have everything we need to compute our lower-bound on the log-likelihood of the observed data. The MIWAE bound is defined as\n",
        "$$\n",
        "\\mathcal{L}_K (\\boldsymbol{\\theta,\\gamma}) = \\sum_{i=1}^n \\mathbb{E}_{\\mathbf{z}_{i1},\\ldots,\\mathbf{z}_{iK} \\sim q_{\\boldsymbol{\\gamma}}(\\mathbf{z}|\\mathbf{x}^\\text{o}_i)} \\left[ \\log\\frac{1}{K} \\sum_{k=1}^K \\frac{p_{\\boldsymbol{\\theta}}(\\mathbf{x}_i^\\text{o}|\\mathbf{z}_{ik})p(\\mathbf{z}_{ik})}{q_{\\boldsymbol{\\gamma}}(\\mathbf{z}_{ik}|\\mathbf{x}^\\text{o}_i)} \\right].\n",
        "$$"
      ]
    },
    {
      "cell_type": "code",
      "metadata": {
        "id": "SVB56BnMgWlj"
      },
      "source": [
        "@tf.function\n",
        "def miwae_bound(xhat_0_batch, mask_batch,K):\n",
        "\n",
        "  tiledmask = tf.tile(mask_batch,[K,1])\n",
        "  mask_complement_float = tf.abs(mask_batch-1)\n",
        "\n",
        "  tilediota = tf.tile(iota,[xhat_0_batch.shape[0],1])\n",
        "  iotax = xhat_0_batch + tf.multiply(tilediota,mask_complement_float)\n",
        "\n",
        "  out_encoder = encoder(iotax)\n",
        "  q_zgivenxobs = tfd.Independent(distribution=tfd.StudentT(loc=out_encoder[..., :d], scale=tf.nn.softplus(out_encoder[..., d:(2*d)]), df=3 + tf.nn.softplus(out_encoder[..., (2*d):(3*d)])))\n",
        "  zgivenx = q_zgivenxobs.sample(K)\n",
        "  zgivenx_flat = tf.reshape(zgivenx,[K*xhat_0_batch.shape[0],d])\n",
        "\n",
        "  out_decoder = decoder(zgivenx_flat)\n",
        "  data_flat = tf.reshape(tf.tile(xhat_0_batch,[K,1]),[-1,1])\n",
        "  all_means_obs_model = out_decoder[..., :p]\n",
        "  all_scales_obs_model = tf.nn.softplus(out_decoder[..., p:(2*p)]) + 0.001\n",
        "  all_degfreedom_obs_model = tf.nn.softplus(out_decoder[..., (2*p):(3*p)]) + 3\n",
        "  all_log_pxgivenz_flat = tfd.StudentT(loc=tf.reshape(all_means_obs_model,[-1,1]),scale=tf.reshape(all_scales_obs_model,[-1,1]),df=tf.reshape(all_degfreedom_obs_model,[-1,1])).log_prob(data_flat)\n",
        "  all_log_pxgivenz = tf.reshape(all_log_pxgivenz_flat,[K*xhat_0_batch.shape[0],p])\n",
        "\n",
        "  logpxobsgivenz = tf.reshape(tf.reduce_sum(tf.multiply(all_log_pxgivenz,tiledmask),1),[K,xhat_0_batch.shape[0]])\n",
        "  logpz = p_z.log_prob(zgivenx)\n",
        "  logq = q_zgivenxobs.log_prob(zgivenx)\n",
        "\n",
        "  average_miwae_bound = tf.reduce_mean(tf.reduce_logsumexp(logpxobsgivenz + logpz - logq,0) -tf.math.log(tf.cast(K,tf.float32)) ) \n",
        "  return average_miwae_bound"
      ],
      "execution_count": null,
      "outputs": []
    },
    {
      "cell_type": "markdown",
      "metadata": {
        "id": "sMN3lK0PyP3U"
      },
      "source": [
        "# Single imputation"
      ]
    },
    {
      "cell_type": "markdown",
      "metadata": {
        "id": "k81dVSHUySgy"
      },
      "source": [
        "The optimal (in the $\\ell_2$ sense, and according to our model $p_{\\boldsymbol{\\theta}}$) single imputation is the conditional mean $\\mathbb{E}_{p_{\\boldsymbol{\\theta}}} [\\mathbf{x}^{\\text{m}} | \\mathbf{x}^{\\text{o}}]$. This can be estimated using self-normalised importance sampling:\n",
        "\\begin{equation}\n",
        "\\mathbb E _{p_{\\boldsymbol{\\theta}}}[\\mathbf{x}^{\\text{m}} | \\mathbf{x}^{\\text{o}}] \\approx \\sum_{l=1}^L w_l \\mathbb{E}_{p_{\\boldsymbol{\\theta}}}\\left[\\mathbf{x}^{\\text{m}} | \\mathbf{x}^{\\text{o}},\\mathbf{z}_{(l)}\\right] = \\sum_{l=1}^L w_l \\boldsymbol{\\mu}_{\\boldsymbol{\\theta}}(\\mathbf{z}_l)^\\text{m},\n",
        "\\end{equation}\n",
        "\n",
        "\n",
        "\\begin{equation}\n",
        "w_l=\\frac{r_l}{r_1+...+r_L}, \\; \\text{with} \\; r_l = \\frac{p_{\\boldsymbol{\\theta}}(\\mathbf{x}^{\\text{o}}|\\mathbf{z}_{(l)})p(\\mathbf{z}_{(l)})}{q_{\\boldsymbol{\\gamma}}(\\mathbf{z}_{(l)}|\\mathbf{x}^{\\text{o}})}.\n",
        "\\end{equation}\n",
        "\n",
        "For more details on this, see section 3.2 of the [MIWAE paper](http://proceedings.mlr.press/v97/mattei19a.html)."
      ]
    },
    {
      "cell_type": "code",
      "metadata": {
        "id": "FbxwqcP16VN9"
      },
      "source": [
        "@tf.function\n",
        "def miwae_impute(xhat_0_batch, mask_batch,K=1000,type=\"single\",num_samples=20):\n",
        "\n",
        "  tiledmask = tf.tile(mask_batch,[K,1])\n",
        "  mask_complement_float = tf.abs(mask_batch-1)\n",
        "\n",
        "  tilediota = tf.tile(iota,[xhat_0_batch.shape[0],1])\n",
        "  iotax = xhat_0_batch + tf.multiply(tilediota,mask_complement_float)\n",
        "\n",
        "  out_encoder = encoder(iotax)\n",
        "  q_zgivenxobs = tfd.Independent(distribution=tfd.StudentT(loc=out_encoder[..., :d], scale=tf.nn.softplus(out_encoder[..., d:(2*d)]), df=3 + tf.nn.softplus(out_encoder[..., (2*d):(3*d)])))\n",
        "  zgivenx = q_zgivenxobs.sample(K)\n",
        "  zgivenx_flat = tf.reshape(zgivenx,[K*xhat_0_batch.shape[0],d])\n",
        "\n",
        "  out_decoder = decoder(zgivenx_flat)\n",
        "  data_flat = tf.reshape(tf.tile(xhat_0_batch,[K,1]),[-1,1])\n",
        "  all_means_obs_model = out_decoder[..., :p]\n",
        "  all_scales_obs_model = tf.nn.softplus(out_decoder[..., p:(2*p)]) + 0.001\n",
        "  all_degfreedom_obs_model = tf.nn.softplus(out_decoder[..., (2*p):(3*p)]) + 3\n",
        "  xgivenz = tfd.Independent(distribution=tfd.StudentT(loc=all_means_obs_model, scale=all_scales_obs_model, df=all_degfreedom_obs_model))\n",
        "  all_log_pxgivenz_flat = tfd.StudentT(loc=tf.reshape(all_means_obs_model,[-1,1]),scale=tf.reshape(all_scales_obs_model,[-1,1]),df=tf.reshape(all_degfreedom_obs_model,[-1,1])).log_prob(data_flat)\n",
        "  all_log_pxgivenz = tf.reshape(all_log_pxgivenz_flat,[K*xhat_0_batch.shape[0],p])\n",
        "\n",
        "  logpxobsgivenz = tf.reshape(tf.reduce_sum(tf.multiply(all_log_pxgivenz,tiledmask),1),[K,xhat_0_batch.shape[0]])\n",
        "  logpz = p_z.log_prob(zgivenx)\n",
        "  logq = q_zgivenxobs.log_prob(zgivenx)\n",
        "\n",
        "  imp_weights = tf.nn.softmax(logpxobsgivenz + logpz - logq,0) # these are w_1,....,w_L for all observations in the batch\n",
        "  xms = tf.reshape(xgivenz.mean(),[K,xhat_0_batch.shape[0],p])\n",
        "  xm = xhat_0_batch + tf.multiply(tf.einsum('ki,kij->ij', imp_weights, xms),mask_complement_float)\n",
        "  return xm"
      ],
      "execution_count": null,
      "outputs": []
    },
    {
      "cell_type": "markdown",
      "metadata": {
        "id": "EciWgtUcui5C"
      },
      "source": [
        "# Training the model"
      ]
    },
    {
      "cell_type": "code",
      "metadata": {
        "id": "KTvNVhqM3S4v"
      },
      "source": [
        "optimizer = tf.keras.optimizers.Adam(learning_rate=0.0002)"
      ],
      "execution_count": null,
      "outputs": []
    },
    {
      "cell_type": "code",
      "metadata": {
        "id": "_8jy1rsAtOGB"
      },
      "source": [
        "all_parameters = encoder.trainable_variables + decoder.trainable_variables + [iota]"
      ],
      "execution_count": null,
      "outputs": []
    },
    {
      "cell_type": "code",
      "metadata": {
        "id": "B7LZjywhhONg"
      },
      "source": [
        "@tf.function\n",
        "def gradient_step_miwae(xhat_0_batch, mask_batch,K):\n",
        "  with tf.GradientTape() as tape: # the gradient tape saves all the step that needs to be saved fopr automatic differentiation\n",
        "    loss = -  miwae_bound(xhat_0_batch, mask_batch,K)  # the loss is the negative ELBO\n",
        "  gradients = tape.gradient(loss, all_parameters)  # here, the gradient is automatically computed\n",
        "  optimizer.apply_gradients(zip(gradients, all_parameters))  # Adam iteration"
      ],
      "execution_count": null,
      "outputs": []
    },
    {
      "cell_type": "code",
      "metadata": {
        "id": "qdFrUrJS3uTD"
      },
      "source": [
        "train_dataset = tf.data.Dataset.from_tensor_slices((xhat_0,mask)).shuffle(n).batch(32) # TF creates the batches for us"
      ],
      "execution_count": null,
      "outputs": []
    },
    {
      "cell_type": "code",
      "metadata": {
        "colab": {
          "base_uri": "https://localhost:8080/"
        },
        "id": "SJk0luqthWEZ",
        "outputId": "4a351bd8-6734-4878-e4d1-d0cf43912bbc"
      },
      "source": [
        "EPOCHS = 201\n",
        "mse_miwae=np.array([])\n",
        "xhat_miwae = np.copy(xhat_0)\n",
        "\n",
        "for epoch in range(1,EPOCHS+1):\n",
        "  for xhat_0_batch, mask_batch in train_dataset:\n",
        "    gradient_step_miwae(xhat_0_batch, mask_batch,K = 5) # Adam iteration\n",
        "  \n",
        "  if (epoch % 20) == 1:\n",
        "    for i in range(n):\n",
        "      xhat_miwae[i,:]  = miwae_impute(xhat_0[i,:].reshape([1,p]), mask[i,:].reshape([1,p]),K = 100).numpy()\n",
        "    err = np.array([mse(xhat_miwae,xfull,mask)])\n",
        "    train_miwae_bound = miwae_bound(xhat_0, mask, K = 5)\n",
        "    mse_miwae = np.append(mse_miwae,err,axis=0)\n",
        "    print('Epoch  %g' %epoch)\n",
        "    print('Train MIWAE bound  %g' %train_miwae_bound.numpy())\n",
        "    print('Imputation MSE  %g' %err)\n",
        "    print('-----------')"
      ],
      "execution_count": null,
      "outputs": [
        {
          "output_type": "stream",
          "text": [
            "Epoch  1\n",
            "Train MIWAE bound  -1.84486\n",
            "Imputation MSE  2.12684\n",
            "-----------\n",
            "Epoch  21\n",
            "Train MIWAE bound  -1.74863\n",
            "Imputation MSE  1.81742\n",
            "-----------\n",
            "Epoch  41\n",
            "Train MIWAE bound  -1.7384\n",
            "Imputation MSE  1.85596\n",
            "-----------\n",
            "Epoch  61\n",
            "Train MIWAE bound  -1.74223\n",
            "Imputation MSE  1.80937\n",
            "-----------\n",
            "Epoch  81\n",
            "Train MIWAE bound  -1.73738\n",
            "Imputation MSE  1.83571\n",
            "-----------\n",
            "Epoch  101\n",
            "Train MIWAE bound  -1.72813\n",
            "Imputation MSE  1.8256\n",
            "-----------\n",
            "Epoch  121\n",
            "Train MIWAE bound  -1.72597\n",
            "Imputation MSE  1.81171\n",
            "-----------\n",
            "Epoch  141\n",
            "Train MIWAE bound  -1.74156\n",
            "Imputation MSE  1.82464\n",
            "-----------\n",
            "Epoch  161\n",
            "Train MIWAE bound  -1.72695\n",
            "Imputation MSE  1.8183\n",
            "-----------\n",
            "Epoch  181\n",
            "Train MIWAE bound  -1.73362\n",
            "Imputation MSE  1.79428\n",
            "-----------\n",
            "Epoch  201\n",
            "Train MIWAE bound  -1.72169\n",
            "Imputation MSE  1.82787\n",
            "-----------\n"
          ],
          "name": "stdout"
        }
      ]
    },
    {
      "cell_type": "markdown",
      "metadata": {
        "id": "-y9C19NBTvt4"
      },
      "source": [
        "# Comparison with other techniques"
      ]
    },
    {
      "cell_type": "markdown",
      "metadata": {
        "id": "GEYnYhqoT0JB"
      },
      "source": [
        "How good are our imputations? Let us compare the results with other imputations techniques.\n",
        "\n",
        "If we were an oracle that knew the true data distribution $p_\\text{data}$, then the optimal imputation would be to use the conditional distribution $\\mathbb{E}_{p_\\text{data}} [\\mathbf{x}^{\\text{m}} | \\mathbf{x}^{\\text{o}}]$. In this synthetic example, we actually know that $p_\\text{data}$ is Gaussian, which means that $\\mathbb{E}_{p_\\text{data}} [\\mathbf{x}^{\\text{m}} | \\mathbf{x}^{\\text{o}}]$ can be computed in closed-form. This **oracle Gaussian imputation** is impossible to beat on this particular data set, and will be our gold-standard.\n",
        "\n",
        "The following two functions compute this oracle Gaussain imputation."
      ]
    },
    {
      "cell_type": "code",
      "metadata": {
        "id": "GZbb3w0CuEc5"
      },
      "source": [
        "def conditional_gaussian(x,m,mean,cov): # computes the conditional distribution of xmiss given xobs, assuming that x is Gaussian(mean,cov), inspired by code from the R package condMVNorm\n",
        "  m = m.astype(np.bool)\n",
        "  obs = m\n",
        "  miss = ~m\n",
        "  xobs = x[obs]\n",
        "\n",
        "  B = cov[np.ix_(miss,miss)]\n",
        "  C = cov[np.ix_(miss,obs)]\n",
        "  D = cov[np.ix_(obs,obs)]\n",
        "  CDinv = np.matmul(C,np.linalg.inv(D))\n",
        "  cond_mean = mean[miss] + np.matmul(CDinv , xobs - mean[obs])\n",
        "  cond_cov = B - np.matmul(CDinv,C.T)\n",
        "\n",
        "  return scipy.stats.multivariate_normal(cond_mean,cond_cov)"
      ],
      "execution_count": null,
      "outputs": []
    },
    {
      "cell_type": "code",
      "metadata": {
        "id": "IyYfINoUuEc5"
      },
      "source": [
        "def gaussian_single_impute(x,m,mean,cov): \n",
        "\n",
        "  if (m==np.ones(len(x))).all():\n",
        "    return x\n",
        "\n",
        "  m = m.astype(np.bool)\n",
        "  obs = m\n",
        "  miss = ~m\n",
        "  xhat = np.copy(x)\n",
        "  xmiss = conditional_gaussian(x,m,mean,cov).mean\n",
        "  xhat[~m] = xmiss\n",
        "\n",
        "  return xhat"
      ],
      "execution_count": null,
      "outputs": []
    },
    {
      "cell_type": "markdown",
      "metadata": {
        "id": "Iq7kWxt63nPu"
      },
      "source": [
        "We will also look at two popular imputation schemes: **mean imputation**, and the **Missforest algorithm** [(Stekhoven & Bühlmann ,2011)](https://academic.oup.com/bioinformatics/article/28/1/112/219101), or rather a [version of it](https://scikit-learn.org/stable/auto_examples/impute/plot_iterative_imputer_variants_comparison.html#sphx-glr-auto-examples-impute-plot-iterative-imputer-variants-comparison-py) implemented the in scikit-learn library."
      ]
    },
    {
      "cell_type": "code",
      "metadata": {
        "colab": {
          "base_uri": "https://localhost:8080/"
        },
        "id": "hfQMXxAAiFhQ",
        "outputId": "409a5b6c-564a-43f8-ad65-576eba3b7bff"
      },
      "source": [
        "missforest = IterativeImputer(estimator=ExtraTreesRegressor(n_estimators=100), max_iter = 100)\n",
        "missforest.fit(xmiss)\n",
        "xhat_mf = missforest.transform(xmiss)\n",
        "mean_imp = SimpleImputer(missing_values=np.nan, strategy='mean')\n",
        "mean_imp.fit(xmiss)\n",
        "xhat_mean = mean_imp.transform(xmiss)"
      ],
      "execution_count": null,
      "outputs": [
        {
          "output_type": "stream",
          "text": [
            "/usr/local/lib/python3.6/dist-packages/sklearn/impute/_iterative.py:638: ConvergenceWarning: [IterativeImputer] Early stopping criterion not reached.\n",
            "  \" reached.\", ConvergenceWarning)\n"
          ],
          "name": "stderr"
        }
      ]
    },
    {
      "cell_type": "code",
      "metadata": {
        "id": "PvZgycKXgDHP"
      },
      "source": [
        "xhat_oracle = np.copy(xhat_0)\n",
        "for i in range(n):\n",
        "  xhat_oracle[i,:] = gaussian_single_impute(xhat_0[i,:],mask[i,:], mean = np.zeros(dim), cov =np.eye(dim)+1)"
      ],
      "execution_count": null,
      "outputs": []
    },
    {
      "cell_type": "code",
      "metadata": {
        "colab": {
          "base_uri": "https://localhost:8080/",
          "height": 301
        },
        "id": "yKvNXRTVPR57",
        "outputId": "02624ebf-2062-4d86-f980-cadf4fdae0e5"
      },
      "source": [
        "plt.plot(np.linspace(1,EPOCHS,mse_miwae.shape[0]),mse_miwae,color=\"blue\")\n",
        "plt.axhline(y=mse(xhat_mf,xfull,mask),  linestyle='-',color=\"red\")\n",
        "plt.axhline(y=mse(xhat_mean,xfull,mask),  linestyle='-',color=\"orange\")\n",
        "plt.axhline(y=mse(xhat_oracle,xfull,mask),  linestyle='-',color=\"green\")\n",
        "plt.legend([\"MIWAE\",\"missForest\",\"Mean\",\"Gaussian oracle\"])\n",
        "plt.title(\"Imputation MSE\")\n",
        "plt.xlabel(\"Epochs\")\n",
        "plt.show()"
      ],
      "execution_count": null,
      "outputs": [
        {
          "output_type": "display_data",
          "data": {
            "image/png": "[encoded data removed]",
            "text/plain": [
              "<Figure size 432x288 with 1 Axes>"
            ]
          },
          "metadata": {
            "tags": [],
            "needs_background": "light"
          }
        }
      ]
    },
    {
      "cell_type": "markdown",
      "metadata": {
        "id": "Kk2KaCF85Pg3"
      },
      "source": [
        "As we can seen, missForest is surprisingly outperformed by the mean imputation (which may be explained by the rather weak correlations between the variables) to overfit the data significantly. MIWAE almost reaches the best possible performance, which is remarkable given how overparametrised the model is, compared to the true data distribution."
      ]
    },
    {
      "cell_type": "markdown",
      "metadata": {
        "id": "u32s5Jjc5-vX"
      },
      "source": [
        "# Sampling from the model"
      ]
    },
    {
      "cell_type": "markdown",
      "metadata": {
        "id": "PTehEQg86RHq"
      },
      "source": [
        "Another way to check if the model is any good is to sample a bunch of points from it and compare them to the true data distribution."
      ]
    },
    {
      "cell_type": "code",
      "metadata": {
        "id": "T_-WDNWJ1epC"
      },
      "source": [
        "@tf.function\n",
        "def miwae_sample(num_samples=20):\n",
        "\n",
        "  codes = p_z.sample(num_samples)\n",
        "\n",
        "  out_decoder = decoder(codes)\n",
        "  all_means_obs_model = out_decoder[..., :p]\n",
        "  all_scales_obs_model = tf.nn.softplus(out_decoder[..., p:(2*p)]) + 0.001\n",
        "  all_degfreedom_obs_model = tf.nn.softplus(out_decoder[..., (2*p):(3*p)]) + 3\n",
        "  xgivenz = tfd.Independent(distribution=tfd.StudentT(loc=all_means_obs_model, scale=all_scales_obs_model, df=all_degfreedom_obs_model))\n",
        "  x = xgivenz.sample(1)\n",
        "\n",
        "  return tf.squeeze(x)"
      ],
      "execution_count": null,
      "outputs": []
    },
    {
      "cell_type": "code",
      "metadata": {
        "colab": {
          "base_uri": "https://localhost:8080/",
          "height": 268
        },
        "id": "LYeyjGjpooSX",
        "outputId": "9103e383-c7f0-49aa-d9da-4cd761284c0c"
      },
      "source": [
        "fake_data = miwae_sample(n)\n",
        "\n",
        "plt.scatter(fake_data[:,0],fake_data[:,1])\n",
        "plt.scatter(xfull[:,0],xfull[:,1])\n",
        "plt.legend([\"Training data\", \"MIWAE samples\"])\n",
        "plt.show()"
      ],
      "execution_count": null,
      "outputs": [
        {
          "output_type": "display_data",
          "data": {
            "image/png": "[encoded data removed]",
            "text/plain": [
              "<Figure size 432x288 with 1 Axes>"
            ]
          },
          "metadata": {
            "tags": [],
            "needs_background": "light"
          }
        }
      ]
    },
    {
      "cell_type": "markdown",
      "metadata": {
        "id": "teDxO__a64tp"
      },
      "source": [
        "One may also look at the marginals:"
      ]
    },
    {
      "cell_type": "code",
      "metadata": {
        "colab": {
          "base_uri": "https://localhost:8080/",
          "height": 268
        },
        "id": "S_J0dQiWs59g",
        "outputId": "5925e061-9c62-4926-b5f4-c71565fe0ccd"
      },
      "source": [
        "sns.kdeplot(fake_data[:,0])\n",
        "sns.kdeplot(xfull[:,0])\n",
        "plt.legend([ \"MIWAE samples\",\"Training data\"])\n",
        "plt.show()"
      ],
      "execution_count": null,
      "outputs": [
        {
          "output_type": "display_data",
          "data": {
            "image/png": "[encoded data removed]",
            "text/plain": [
              "<Figure size 432x288 with 1 Axes>"
            ]
          },
          "metadata": {
            "tags": [],
            "needs_background": "light"
          }
        }
      ]
    },
    {
      "cell_type": "code",
      "metadata": {
        "id": "dloQwYevO2Ci",
        "colab": {
          "base_uri": "https://localhost:8080/",
          "height": 268
        },
        "outputId": "571c868e-b39b-40ee-c0b7-a606d28c934a"
      },
      "source": [
        "sns.kdeplot(fake_data[:,1])\n",
        "sns.kdeplot(xfull[:,1])\n",
        "plt.legend([ \"MIWAE samples\",\"Training data\"])\n",
        "plt.show()"
      ],
      "execution_count": null,
      "outputs": [
        {
          "output_type": "display_data",
          "data": {
            "image/png": "[encoded data removed]",
            "text/plain": [
              "<Figure size 432x288 with 1 Axes>"
            ]
          },
          "metadata": {
            "tags": [],
            "needs_background": "light"
          }
        }
      ]
    },
    {
      "cell_type": "code",
      "metadata": {
        "id": "Tiwvac0m7BmX"
      },
      "source": [
        ""
      ],
      "execution_count": null,
      "outputs": []
    }
  ]
}